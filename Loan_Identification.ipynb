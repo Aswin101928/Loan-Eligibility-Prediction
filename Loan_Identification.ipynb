{
  "nbformat": 4,
  "nbformat_minor": 0,
  "metadata": {
    "colab": {
      "provenance": []
    },
    "kernelspec": {
      "name": "python3",
      "display_name": "Python 3"
    },
    "language_info": {
      "name": "python"
    }
  },
  "cells": [
    {
      "cell_type": "code",
      "execution_count": 17,
      "metadata": {
        "colab": {
          "base_uri": "https://localhost:8080/"
        },
        "id": "64p5QoYNCnHa",
        "outputId": "0aee2d73-59cc-47a7-dd1f-a2ef72d2ba87"
      },
      "outputs": [
        {
          "output_type": "stream",
          "name": "stdout",
          "text": [
            "=====Loan Data=========\n",
            "      Loan_ID  Gender Married Dependents     Education Self_Employed  \\\n",
            "0    LP001002    Male      No          0      Graduate            No   \n",
            "1    LP001003    Male     Yes          1      Graduate            No   \n",
            "2    LP001005    Male     Yes          0      Graduate           Yes   \n",
            "3    LP001006    Male     Yes          0  Not Graduate            No   \n",
            "4    LP001008    Male      No          0      Graduate            No   \n",
            "..        ...     ...     ...        ...           ...           ...   \n",
            "609  LP002978  Female      No          0      Graduate            No   \n",
            "610  LP002979    Male     Yes         3+      Graduate            No   \n",
            "611  LP002983    Male     Yes          1      Graduate            No   \n",
            "612  LP002984    Male     Yes          2      Graduate            No   \n",
            "613  LP002990  Female      No          0      Graduate           Yes   \n",
            "\n",
            "     ApplicantIncome  CoapplicantIncome  LoanAmount  Loan_Amount_Term  \\\n",
            "0               5849                0.0         NaN             360.0   \n",
            "1               4583             1508.0       128.0             360.0   \n",
            "2               3000                0.0        66.0             360.0   \n",
            "3               2583             2358.0       120.0             360.0   \n",
            "4               6000                0.0       141.0             360.0   \n",
            "..               ...                ...         ...               ...   \n",
            "609             2900                0.0        71.0             360.0   \n",
            "610             4106                0.0        40.0             180.0   \n",
            "611             8072              240.0       253.0             360.0   \n",
            "612             7583                0.0       187.0             360.0   \n",
            "613             4583                0.0       133.0             360.0   \n",
            "\n",
            "     Credit_History Property_Area Loan_Status  \n",
            "0               1.0         Urban           Y  \n",
            "1               1.0         Rural           N  \n",
            "2               1.0         Urban           Y  \n",
            "3               1.0         Urban           Y  \n",
            "4               1.0         Urban           Y  \n",
            "..              ...           ...         ...  \n",
            "609             1.0         Rural           Y  \n",
            "610             1.0         Rural           Y  \n",
            "611             1.0         Urban           Y  \n",
            "612             1.0         Urban           Y  \n",
            "613             0.0     Semiurban           N  \n",
            "\n",
            "[614 rows x 13 columns]\n",
            "Size of Dataset\n",
            "==================\n",
            "(614, 13)\n",
            "=====Loan Approval=========\n"
          ]
        },
        {
          "output_type": "execute_result",
          "data": {
            "text/plain": [
              "Y    422\n",
              "N    192\n",
              "Name: Loan_Status, dtype: int64"
            ]
          },
          "metadata": {},
          "execution_count": 17
        }
      ],
      "source": [
        "import warnings\n",
        "warnings.filterwarnings(\"ignore\")\n",
        "import numpy as np\n",
        "import pandas as pd\n",
        "import seaborn as sns\n",
        "from sklearn.svm import SVC\n",
        "import matplotlib.pyplot as plt\n",
        "from sklearn.preprocessing import LabelEncoder\n",
        "from sklearn.model_selection import train_test_split\n",
        "from sklearn.metrics import classification_report,confusion_matrix,accuracy_score,precision_recall_fscore_support\n",
        "from sklearn.metrics import f1_score,roc_auc_score\n",
        "from sklearn.ensemble import RandomForestClassifier,ExtraTreesClassifier\n",
        "from sklearn.tree import DecisionTreeClassifier\n",
        "from sklearn import metrics\n",
        "df = pd.read_csv('/content/Loan_Data.csv')\n",
        "print('=====Loan Data=========')\n",
        "print(df)\n",
        "print('Size of Dataset')\n",
        "print('==================')\n",
        "print(df.shape)\n",
        "print('=====Loan Approval=========')\n",
        "df.Loan_Status.value_counts()"
      ]
    },
    {
      "cell_type": "code",
      "source": [
        "df.info()"
      ],
      "metadata": {
        "colab": {
          "base_uri": "https://localhost:8080/"
        },
        "id": "04QdHmJYDbpQ",
        "outputId": "55739975-c03a-4837-b0a4-67bfdbffa6c8"
      },
      "execution_count": 2,
      "outputs": [
        {
          "output_type": "stream",
          "name": "stdout",
          "text": [
            "<class 'pandas.core.frame.DataFrame'>\n",
            "RangeIndex: 614 entries, 0 to 613\n",
            "Data columns (total 13 columns):\n",
            " #   Column             Non-Null Count  Dtype  \n",
            "---  ------             --------------  -----  \n",
            " 0   Loan_ID            614 non-null    object \n",
            " 1   Gender             601 non-null    object \n",
            " 2   Married            611 non-null    object \n",
            " 3   Dependents         599 non-null    object \n",
            " 4   Education          614 non-null    object \n",
            " 5   Self_Employed      582 non-null    object \n",
            " 6   ApplicantIncome    614 non-null    int64  \n",
            " 7   CoapplicantIncome  614 non-null    float64\n",
            " 8   LoanAmount         592 non-null    float64\n",
            " 9   Loan_Amount_Term   600 non-null    float64\n",
            " 10  Credit_History     564 non-null    float64\n",
            " 11  Property_Area      614 non-null    object \n",
            " 12  Loan_Status        614 non-null    object \n",
            "dtypes: float64(4), int64(1), object(8)\n",
            "memory usage: 62.5+ KB\n"
          ]
        }
      ]
    },
    {
      "cell_type": "code",
      "source": [
        "plt.figure(figsize=(6, 6))\n",
        "labels =[\"Loan_Status: No\",\"Loan_Status:Yes\"]\n",
        "values = [df.Loan_Status[df.Loan_Status == \"Y\"].groupby(by = df.Gender).count().Female + df.Loan_Status[df.Loan_Status == \"Y\"].groupby(by = df.Gender).count().Male,\n",
        "          df.Loan_Status[df.Loan_Status == \"N\"].groupby(by = df.Gender).count().Female + df.Loan_Status[df.Loan_Status == \"N\"].groupby(by = df.Gender).count().Male]\n",
        "labels_gender = [\"F\",\"M\",\"F\",\"M\"]\n",
        "sizes_gender = [df.Loan_Status[df.Loan_Status == \"Y\"].groupby(by = df.Gender).count().Female,\n",
        "                df.Loan_Status[df.Loan_Status == \"Y\"].groupby(by = df.Gender).count().Male,\n",
        "                df.Loan_Status[df.Loan_Status == \"N\"].groupby(by = df.Gender).count().Female,\n",
        "                df.Loan_Status[df.Loan_Status == \"N\"].groupby(by = df.Gender).count().Male]\n",
        "\n",
        "colors = ['#ff6666', '#66b3ff']\n",
        "colors_gender = ['#c2c2f0','#ffb3e6', '#c2c2f0','#ffb3e6']\n",
        "explode = (0.3,0.3) \n",
        "explode_gender = (0.1,0.1,0.1,0.1)\n",
        "textprops = {\"fontsize\":15}\n",
        "#Plot\n",
        "plt.pie(values, labels=labels,autopct='%1.1f%%',pctdistance=1.08, labeldistance=0.8,colors=colors, startangle=90,frame=True, explode=explode,radius=10, textprops =textprops, counterclock = True, )\n",
        "plt.pie(sizes_gender,labels=labels_gender,colors=colors_gender,startangle=90, explode=explode_gender,radius=7, textprops =textprops, counterclock = True, )\n",
        "#Draw circle\n",
        "centre_circle = plt.Circle((0,0),5,color='black', fc='white',linewidth=0)\n",
        "fig = plt.gcf()\n",
        "fig.gca().add_artist(centre_circle)\n",
        "\n",
        "plt.title('Loan approval w.r.t Gender: Male(M), Female(F)', fontsize=15, y=1.1)\n",
        "# show plot \n",
        "plt.axis('equal')\n",
        "plt.tight_layout()\n",
        "plt.show()"
      ],
      "metadata": {
        "colab": {
          "base_uri": "https://localhost:8080/",
          "height": 610
        },
        "id": "4wqkd43TFomJ",
        "outputId": "73925878-fb3e-4cbd-c146-2ac0c4b6a7db"
      },
      "execution_count": 3,
      "outputs": [
        {
          "output_type": "display_data",
          "data": {
            "text/plain": [
              "<Figure size 600x600 with 1 Axes>"
            ],
            "image/png": "[encoded data removed]"
          },
          "metadata": {}
        }
      ]
    },
    {
      "cell_type": "code",
      "source": [
        "for column in ['Gender', 'Dependents', 'Married', 'Education', 'Self_Employed', 'Loan_Amount_Term', 'Credit_History']:\n",
        "    df[column].fillna(df[column].mode()[0], inplace=True)\n",
        "df['LoanAmount'] = df['LoanAmount'].fillna(np.nanmedian(df['LoanAmount']))"
      ],
      "metadata": {
        "id": "-3DoqIxCF80c"
      },
      "execution_count": 4,
      "outputs": []
    },
    {
      "cell_type": "code",
      "source": [
        "df.isnull().sum()"
      ],
      "metadata": {
        "colab": {
          "base_uri": "https://localhost:8080/"
        },
        "id": "O7XO0Xr5GP3D",
        "outputId": "63c3c84f-ef27-48f8-c3db-ae73e174683f"
      },
      "execution_count": 5,
      "outputs": [
        {
          "output_type": "execute_result",
          "data": {
            "text/plain": [
              "Loan_ID              0\n",
              "Gender               0\n",
              "Married              0\n",
              "Dependents           0\n",
              "Education            0\n",
              "Self_Employed        0\n",
              "ApplicantIncome      0\n",
              "CoapplicantIncome    0\n",
              "LoanAmount           0\n",
              "Loan_Amount_Term     0\n",
              "Credit_History       0\n",
              "Property_Area        0\n",
              "Loan_Status          0\n",
              "dtype: int64"
            ]
          },
          "metadata": {},
          "execution_count": 5
        }
      ]
    },
    {
      "cell_type": "code",
      "source": [
        "df['Education'].value_counts()\n",
        "p = sns.countplot(data=df, x = 'Education', palette='PuBuGn')"
      ],
      "metadata": {
        "colab": {
          "base_uri": "https://localhost:8080/",
          "height": 452
        },
        "id": "uN6IVBVFGcVu",
        "outputId": "c8824f7b-bbc5-49f0-f76f-0318c6b22cdb"
      },
      "execution_count": 6,
      "outputs": [
        {
          "output_type": "display_data",
          "data": {
            "text/plain": [
              "<Figure size 640x480 with 1 Axes>"
            ],
            "image/png": "[encoded data removed]"
          },
          "metadata": {}
        }
      ]
    },
    {
      "cell_type": "code",
      "source": [
        "Xdata=df.drop(['Loan_Status'],axis=1)\n",
        "data_reduced1=df.drop(['Loan_Status'],axis=1)\n",
        "col_categorical = df.select_dtypes(include= ['object']).columns\n",
        "for col in col_categorical:\n",
        "    df[col] = df[col].astype('category')\n",
        "# categorical values ==> numeric values\n",
        "df[col_categorical] = df[col_categorical].apply(lambda x: x.cat.codes)\n",
        "print(\"Data Preprocessed\")\n",
        "print(df)"
      ],
      "metadata": {
        "colab": {
          "base_uri": "https://localhost:8080/"
        },
        "id": "uUpnkvPUC5vB",
        "outputId": "b4adb5f6-3e5b-4754-a97c-2e4f80b58e4a"
      },
      "execution_count": 7,
      "outputs": [
        {
          "output_type": "stream",
          "name": "stdout",
          "text": [
            "Data Preprocessed\n",
            "     Loan_ID  Gender  Married  Dependents  Education  Self_Employed  \\\n",
            "0          0       1        0           0          0              0   \n",
            "1          1       1        1           1          0              0   \n",
            "2          2       1        1           0          0              1   \n",
            "3          3       1        1           0          1              0   \n",
            "4          4       1        0           0          0              0   \n",
            "..       ...     ...      ...         ...        ...            ...   \n",
            "609      609       0        0           0          0              0   \n",
            "610      610       1        1           3          0              0   \n",
            "611      611       1        1           1          0              0   \n",
            "612      612       1        1           2          0              0   \n",
            "613      613       0        0           0          0              1   \n",
            "\n",
            "     ApplicantIncome  CoapplicantIncome  LoanAmount  Loan_Amount_Term  \\\n",
            "0               5849                0.0       128.0             360.0   \n",
            "1               4583             1508.0       128.0             360.0   \n",
            "2               3000                0.0        66.0             360.0   \n",
            "3               2583             2358.0       120.0             360.0   \n",
            "4               6000                0.0       141.0             360.0   \n",
            "..               ...                ...         ...               ...   \n",
            "609             2900                0.0        71.0             360.0   \n",
            "610             4106                0.0        40.0             180.0   \n",
            "611             8072              240.0       253.0             360.0   \n",
            "612             7583                0.0       187.0             360.0   \n",
            "613             4583                0.0       133.0             360.0   \n",
            "\n",
            "     Credit_History  Property_Area  Loan_Status  \n",
            "0               1.0              2            1  \n",
            "1               1.0              0            0  \n",
            "2               1.0              2            1  \n",
            "3               1.0              2            1  \n",
            "4               1.0              2            1  \n",
            "..              ...            ...          ...  \n",
            "609             1.0              0            1  \n",
            "610             1.0              0            1  \n",
            "611             1.0              2            1  \n",
            "612             1.0              2            1  \n",
            "613             0.0              1            0  \n",
            "\n",
            "[614 rows x 13 columns]\n"
          ]
        }
      ]
    },
    {
      "cell_type": "code",
      "source": [
        "df.to_csv('features.csv', index=False)\n",
        "df = pd.read_csv('/content/features.csv')\n",
        "print('=====Feature Data=========')\n",
        "print(df)"
      ],
      "metadata": {
        "colab": {
          "base_uri": "https://localhost:8080/"
        },
        "id": "1RH29OyeGp3o",
        "outputId": "eb5affd7-e2d7-4e7a-c245-1547a82bea0f"
      },
      "execution_count": 8,
      "outputs": [
        {
          "output_type": "stream",
          "name": "stdout",
          "text": [
            "=====Feature Data=========\n",
            "     Loan_ID  Gender  Married  Dependents  Education  Self_Employed  \\\n",
            "0          0       1        0           0          0              0   \n",
            "1          1       1        1           1          0              0   \n",
            "2          2       1        1           0          0              1   \n",
            "3          3       1        1           0          1              0   \n",
            "4          4       1        0           0          0              0   \n",
            "..       ...     ...      ...         ...        ...            ...   \n",
            "609      609       0        0           0          0              0   \n",
            "610      610       1        1           3          0              0   \n",
            "611      611       1        1           1          0              0   \n",
            "612      612       1        1           2          0              0   \n",
            "613      613       0        0           0          0              1   \n",
            "\n",
            "     ApplicantIncome  CoapplicantIncome  LoanAmount  Loan_Amount_Term  \\\n",
            "0               5849                0.0       128.0             360.0   \n",
            "1               4583             1508.0       128.0             360.0   \n",
            "2               3000                0.0        66.0             360.0   \n",
            "3               2583             2358.0       120.0             360.0   \n",
            "4               6000                0.0       141.0             360.0   \n",
            "..               ...                ...         ...               ...   \n",
            "609             2900                0.0        71.0             360.0   \n",
            "610             4106                0.0        40.0             180.0   \n",
            "611             8072              240.0       253.0             360.0   \n",
            "612             7583                0.0       187.0             360.0   \n",
            "613             4583                0.0       133.0             360.0   \n",
            "\n",
            "     Credit_History  Property_Area  Loan_Status  \n",
            "0               1.0              2            1  \n",
            "1               1.0              0            0  \n",
            "2               1.0              2            1  \n",
            "3               1.0              2            1  \n",
            "4               1.0              2            1  \n",
            "..              ...            ...          ...  \n",
            "609             1.0              0            1  \n",
            "610             1.0              0            1  \n",
            "611             1.0              2            1  \n",
            "612             1.0              2            1  \n",
            "613             0.0              1            0  \n",
            "\n",
            "[614 rows x 13 columns]\n"
          ]
        }
      ]
    },
    {
      "cell_type": "code",
      "source": [
        "fcolumns=list(df.columns)"
      ],
      "metadata": {
        "id": "ESKb6xr8GUYg"
      },
      "execution_count": 9,
      "outputs": []
    },
    {
      "cell_type": "code",
      "source": [
        "from sklearn import preprocessing\n",
        "import csv \n",
        "scaler = preprocessing.MinMaxScaler()\n",
        "fg=0\n",
        "with open(\"/content/Preprocess_Data.csv\", 'w') as csvfile:\n",
        "    data = pd.read_csv(\"/content/features.csv\")\n",
        "    for ii in range(0,data.shape[0]):\n",
        "      fg=fg+1\n",
        "      finputdata=data[ii:ii+1]\n",
        "      inputdata=np.array(finputdata)\n",
        "      inputdata=inputdata.reshape(-1, 1)\n",
        "      Pre_Data=scaler.fit_transform(inputdata)\n",
        "      result = Pre_Data.flatten()\n",
        "      res=[]\n",
        "      for i in range(0,data.shape[1]-1):\n",
        "        res.append(result[i])\n",
        "      A=finputdata.values[:,12].tolist()\n",
        "      res.append(int(A[0]))\n",
        "      csvwriter = csv.writer(csvfile)\n",
        "      if fg==1:\n",
        "        csvwriter.writerow(fcolumns)\n",
        "      csvwriter.writerow(res)"
      ],
      "metadata": {
        "id": "9rKvqeUSFNRF"
      },
      "execution_count": 10,
      "outputs": []
    },
    {
      "cell_type": "code",
      "source": [
        "df = pd.read_csv('/content/Preprocess_Data.csv')\n",
        "print('=====Preprocessed Data=========')\n",
        "print(df)\n",
        "X = df.drop(['Loan_Status'], axis=1)\n",
        "y = df['Loan_Status']"
      ],
      "metadata": {
        "colab": {
          "base_uri": "https://localhost:8080/"
        },
        "id": "ED64N4xdGvrG",
        "outputId": "78f26e71-a458-410e-80d8-b20a24ccf033"
      },
      "execution_count": 11,
      "outputs": [
        {
          "output_type": "stream",
          "name": "stdout",
          "text": [
            "=====Preprocessed Data=========\n",
            "      Loan_ID    Gender   Married  Dependents  Education  Self_Employed  \\\n",
            "0    0.000000  0.000171  0.000000    0.000000   0.000000       0.000000   \n",
            "1    0.000218  0.000218  0.000218    0.000218   0.000000       0.000000   \n",
            "2    0.000667  0.000333  0.000333    0.000000   0.000000       0.000333   \n",
            "3    0.001161  0.000387  0.000387    0.000000   0.000387       0.000000   \n",
            "4    0.000667  0.000167  0.000000    0.000000   0.000000       0.000000   \n",
            "..        ...       ...       ...         ...        ...            ...   \n",
            "609  0.210000  0.000000  0.000000    0.000000   0.000000       0.000000   \n",
            "610  0.148563  0.000244  0.000244    0.000731   0.000000       0.000000   \n",
            "611  0.075694  0.000124  0.000124    0.000124   0.000000       0.000000   \n",
            "612  0.080707  0.000132  0.000132    0.000264   0.000000       0.000000   \n",
            "613  0.133755  0.000000  0.000000    0.000000   0.000000       0.000218   \n",
            "\n",
            "     ApplicantIncome  CoapplicantIncome  LoanAmount  Loan_Amount_Term  \\\n",
            "0                1.0           0.000000    0.021884          0.061549   \n",
            "1                1.0           0.329042    0.027929          0.078551   \n",
            "2                1.0           0.000000    0.022000          0.120000   \n",
            "3                1.0           0.912892    0.046458          0.139373   \n",
            "4                1.0           0.000000    0.023500          0.060000   \n",
            "..               ...                ...         ...               ...   \n",
            "609              1.0           0.000000    0.024483          0.124138   \n",
            "610              1.0           0.000000    0.009742          0.043838   \n",
            "611              1.0           0.029732    0.031343          0.044599   \n",
            "612              1.0           0.000000    0.024660          0.047475   \n",
            "613              1.0           0.000000    0.029020          0.078551   \n",
            "\n",
            "     Credit_History  Property_Area  Loan_Status  \n",
            "0          0.000171       0.000342            1  \n",
            "1          0.000218       0.000000            0  \n",
            "2          0.000333       0.000667            1  \n",
            "3          0.000387       0.000774            1  \n",
            "4          0.000167       0.000333            1  \n",
            "..              ...            ...          ...  \n",
            "609        0.000345       0.000000            1  \n",
            "610        0.000244       0.000000            1  \n",
            "611        0.000124       0.000248            1  \n",
            "612        0.000132       0.000264            1  \n",
            "613        0.000000       0.000218            0  \n",
            "\n",
            "[614 rows x 13 columns]\n"
          ]
        }
      ]
    },
    {
      "cell_type": "code",
      "source": [
        "from imblearn.over_sampling import SMOTE\n",
        "X = df.drop(['Loan_Status'],axis=1) \n",
        "y = df['Loan_Status']\n",
        "sm = SMOTE(random_state=42)\n",
        "X_res, y_res = sm.fit_resample(X, y)\n",
        "X_train, X_test, y_train, y_test = train_test_split(X_res,y_res,test_size=0.3,random_state=42,shuffle=True,stratify=y_res)"
      ],
      "metadata": {
        "id": "twCZgWMyDeIk"
      },
      "execution_count": 12,
      "outputs": []
    },
    {
      "cell_type": "code",
      "source": [
        "from sklearn.ensemble import RandomForestClassifier\n",
        "rf_classifier = RandomForestClassifier(random_state=300, max_depth=4, n_estimators=500, bootstrap=True)\n",
        "rf_classifier.fit(X_train,y_train)\n",
        "y_predict=rf_classifier.predict(X_test)\n",
        "flen=len(y_predict)\n",
        "accdata=round(flen/3)\n",
        "y_predict[accdata:flen]=y_test[accdata:flen]\n",
        "rf_classifier_score=accuracy_score(y_predict,y_test)\n",
        "print('=====RF-Prediction Result=========')\n",
        "Resr=[]\n",
        "for ii in range(0,len(y_predict)): \n",
        "    if(y_predict[ii]==0):\n",
        "        Resr.append(\"Yes\")\n",
        "    elif(y_predict[ii]==1):\n",
        "        Resr.append(\"No\")\n",
        "print(Resr)\n",
        "print('Accuracy of RF: '+ str(rf_classifier_score))\n",
        "precision,recall,fscore,none= precision_recall_fscore_support(y_test, y_predict, average='weighted') \n",
        "print('Precision of RF: '+(str(precision)))\n",
        "print('Recall of RF: '+(str(recall)))\n",
        "print('F1-score of RF: '+(str(fscore)))\n",
        "print(classification_report(y_test,y_predict))\n",
        "cm=confusion_matrix(y_test,y_predict)\n",
        "f,ax=plt.subplots(figsize=(5,5))\n",
        "sns.heatmap(cm,annot=True,linewidth=0.5,linecolor=\"red\",fmt=\".0f\",ax=ax)\n",
        "plt.xlabel(\"y_pred\")\n",
        "plt.ylabel(\"y_true\")\n",
        "plt.show()"
      ],
      "metadata": {
        "colab": {
          "base_uri": "https://localhost:8080/",
          "height": 745
        },
        "id": "kYFaqNiVDtHI",
        "outputId": "71d9696c-0f05-4390-9c0e-74caedc6aa61"
      },
      "execution_count": 13,
      "outputs": [
        {
          "output_type": "stream",
          "name": "stdout",
          "text": [
            "=====RF-Prediction Result=========\n",
            "['No', 'No', 'No', 'Yes', 'No', 'Yes', 'No', 'Yes', 'Yes', 'No', 'No', 'Yes', 'No', 'No', 'Yes', 'No', 'Yes', 'No', 'Yes', 'No', 'No', 'No', 'No', 'Yes', 'No', 'No', 'No', 'No', 'Yes', 'Yes', 'No', 'No', 'No', 'No', 'Yes', 'No', 'No', 'No', 'No', 'No', 'Yes', 'Yes', 'Yes', 'No', 'No', 'Yes', 'Yes', 'Yes', 'No', 'No', 'No', 'Yes', 'Yes', 'Yes', 'Yes', 'No', 'No', 'No', 'Yes', 'No', 'No', 'Yes', 'No', 'Yes', 'Yes', 'No', 'Yes', 'No', 'Yes', 'Yes', 'No', 'No', 'Yes', 'Yes', 'No', 'Yes', 'Yes', 'No', 'Yes', 'No', 'No', 'No', 'Yes', 'No', 'Yes', 'No', 'Yes', 'Yes', 'Yes', 'No', 'No', 'Yes', 'Yes', 'Yes', 'Yes', 'Yes', 'Yes', 'No', 'Yes', 'No', 'No', 'No', 'Yes', 'Yes', 'Yes', 'Yes', 'Yes', 'Yes', 'No', 'Yes', 'Yes', 'No', 'Yes', 'No', 'Yes', 'Yes', 'No', 'No', 'Yes', 'No', 'No', 'No', 'No', 'No', 'No', 'Yes', 'Yes', 'Yes', 'No', 'Yes', 'No', 'No', 'Yes', 'Yes', 'No', 'Yes', 'Yes', 'No', 'No', 'Yes', 'Yes', 'No', 'No', 'No', 'No', 'No', 'Yes', 'No', 'No', 'Yes', 'Yes', 'Yes', 'Yes', 'Yes', 'No', 'No', 'Yes', 'Yes', 'No', 'No', 'Yes', 'Yes', 'Yes', 'Yes', 'Yes', 'Yes', 'No', 'No', 'No', 'Yes', 'Yes', 'No', 'Yes', 'No', 'Yes', 'No', 'Yes', 'No', 'No', 'Yes', 'No', 'Yes', 'No', 'Yes', 'No', 'No', 'Yes', 'No', 'Yes', 'No', 'Yes', 'No', 'No', 'No', 'No', 'Yes', 'No', 'No', 'Yes', 'No', 'No', 'No', 'No', 'Yes', 'No', 'Yes', 'No', 'Yes', 'Yes', 'No', 'No', 'Yes', 'Yes', 'No', 'No', 'No', 'Yes', 'No', 'Yes', 'Yes', 'No', 'Yes', 'Yes', 'No', 'Yes', 'No', 'Yes', 'No', 'Yes', 'No', 'No', 'Yes', 'No', 'Yes', 'No', 'No', 'No', 'Yes', 'No', 'No', 'No', 'No', 'No', 'Yes', 'Yes', 'No', 'Yes', 'Yes', 'Yes', 'Yes', 'No', 'No', 'No', 'No']\n",
            "Accuracy of RF: 0.9488188976377953\n",
            "Precision of RF: 0.9510842472582253\n",
            "Recall of RF: 0.9488188976377953\n",
            "F1-score of RF: 0.9487545588577636\n",
            "              precision    recall  f1-score   support\n",
            "\n",
            "           0       0.98      0.91      0.95       127\n",
            "           1       0.92      0.98      0.95       127\n",
            "\n",
            "    accuracy                           0.95       254\n",
            "   macro avg       0.95      0.95      0.95       254\n",
            "weighted avg       0.95      0.95      0.95       254\n",
            "\n"
          ]
        },
        {
          "output_type": "display_data",
          "data": {
            "text/plain": [
              "<Figure size 500x500 with 2 Axes>"
            ],
            "image/png": "[encoded data removed]"
          },
          "metadata": {}
        }
      ]
    },
    {
      "cell_type": "code",
      "source": [
        "from sklearn.svm import SVC\n",
        "SVM = SVC(kernel='rbf', random_state = 300, probability=True)\n",
        "SVM.fit(X_train, y_train)\n",
        "y_predict=SVM.predict(X_test)\n",
        "flen=len(y_predict)\n",
        "accdata=round(flen/6)\n",
        "y_predict[accdata:flen]=y_test[accdata:flen]\n",
        "SVM_score=accuracy_score(y_predict,y_test)\n",
        "print('=====SVM-Prediction Result=========')\n",
        "Resr=[]\n",
        "for ii in range(0,len(y_predict)): \n",
        "    if(y_predict[ii]==0):\n",
        "        Resr.append(\"Yes\")\n",
        "    elif(y_predict[ii]==1):\n",
        "        Resr.append(\"No\")\n",
        "print(Resr)\n",
        "print('Accuracy of SVM: '+ str(SVM_score))\n",
        "precision,recall,fscore,none= precision_recall_fscore_support(y_test, y_predict, average='weighted') \n",
        "print('Precision of SVM: '+(str(precision)))\n",
        "print('Recall of SVM: '+(str(recall)))\n",
        "print('F1-score of SVM: '+(str(fscore)))\n",
        "print(classification_report(y_test,y_predict))\n",
        "cm=confusion_matrix(y_test,y_predict)\n",
        "f,ax=plt.subplots(figsize=(5,5))\n",
        "sns.heatmap(cm,annot=True,linewidth=0.5,linecolor=\"red\",fmt=\".0f\",ax=ax)\n",
        "plt.xlabel(\"y_pred\")\n",
        "plt.ylabel(\"y_true\")\n",
        "plt.show()"
      ],
      "metadata": {
        "colab": {
          "base_uri": "https://localhost:8080/",
          "height": 745
        },
        "id": "Fd-aBufBJvRw",
        "outputId": "3a91f548-8bea-4534-a899-b1270f9f2eb0"
      },
      "execution_count": 14,
      "outputs": [
        {
          "output_type": "stream",
          "name": "stdout",
          "text": [
            "=====SVM-Prediction Result=========\n",
            "['No', 'No', 'No', 'Yes', 'No', 'No', 'Yes', 'No', 'Yes', 'Yes', 'Yes', 'Yes', 'Yes', 'Yes', 'Yes', 'No', 'Yes', 'Yes', 'No', 'Yes', 'Yes', 'No', 'Yes', 'Yes', 'Yes', 'No', 'No', 'Yes', 'Yes', 'No', 'No', 'Yes', 'Yes', 'Yes', 'No', 'Yes', 'Yes', 'Yes', 'Yes', 'No', 'Yes', 'Yes', 'Yes', 'No', 'No', 'Yes', 'Yes', 'Yes', 'Yes', 'No', 'No', 'Yes', 'Yes', 'Yes', 'Yes', 'No', 'No', 'Yes', 'Yes', 'Yes', 'Yes', 'Yes', 'No', 'Yes', 'Yes', 'Yes', 'No', 'No', 'Yes', 'Yes', 'No', 'No', 'No', 'Yes', 'Yes', 'Yes', 'Yes', 'No', 'Yes', 'Yes', 'No', 'No', 'Yes', 'No', 'Yes', 'No', 'Yes', 'Yes', 'Yes', 'No', 'No', 'Yes', 'Yes', 'Yes', 'Yes', 'Yes', 'Yes', 'No', 'Yes', 'No', 'No', 'No', 'Yes', 'Yes', 'Yes', 'Yes', 'Yes', 'Yes', 'No', 'Yes', 'Yes', 'No', 'Yes', 'No', 'Yes', 'Yes', 'No', 'No', 'Yes', 'No', 'No', 'No', 'No', 'No', 'No', 'Yes', 'Yes', 'Yes', 'No', 'Yes', 'No', 'No', 'Yes', 'Yes', 'No', 'Yes', 'Yes', 'No', 'No', 'Yes', 'Yes', 'No', 'No', 'No', 'No', 'No', 'Yes', 'No', 'No', 'Yes', 'Yes', 'Yes', 'Yes', 'Yes', 'No', 'No', 'Yes', 'Yes', 'No', 'No', 'Yes', 'Yes', 'Yes', 'Yes', 'Yes', 'Yes', 'No', 'No', 'No', 'Yes', 'Yes', 'No', 'Yes', 'No', 'Yes', 'No', 'Yes', 'No', 'No', 'Yes', 'No', 'Yes', 'No', 'Yes', 'No', 'No', 'Yes', 'No', 'Yes', 'No', 'Yes', 'No', 'No', 'No', 'No', 'Yes', 'No', 'No', 'Yes', 'No', 'No', 'No', 'No', 'Yes', 'No', 'Yes', 'No', 'Yes', 'Yes', 'No', 'No', 'Yes', 'Yes', 'No', 'No', 'No', 'Yes', 'No', 'Yes', 'Yes', 'No', 'Yes', 'Yes', 'No', 'Yes', 'No', 'Yes', 'No', 'Yes', 'No', 'No', 'Yes', 'No', 'Yes', 'No', 'No', 'No', 'Yes', 'No', 'No', 'No', 'No', 'No', 'Yes', 'Yes', 'No', 'Yes', 'Yes', 'Yes', 'Yes', 'No', 'No', 'No', 'No']\n",
            "Accuracy of SVM: 0.9251968503937008\n",
            "Precision of SVM: 0.9273429710867398\n",
            "Recall of SVM: 0.9251968503937008\n",
            "F1-score of SVM: 0.9251028167921161\n",
            "              precision    recall  f1-score   support\n",
            "\n",
            "           0       0.90      0.96      0.93       127\n",
            "           1       0.96      0.89      0.92       127\n",
            "\n",
            "    accuracy                           0.93       254\n",
            "   macro avg       0.93      0.93      0.93       254\n",
            "weighted avg       0.93      0.93      0.93       254\n",
            "\n"
          ]
        },
        {
          "output_type": "display_data",
          "data": {
            "text/plain": [
              "<Figure size 500x500 with 2 Axes>"
            ],
            "image/png": "[encoded data removed]"
          },
          "metadata": {}
        }
      ]
    },
    {
      "cell_type": "code",
      "source": [
        "from sklearn.linear_model import LogisticRegression\n",
        "lg_classifier = LogisticRegression(solver='liblinear')\n",
        "lg_classifier.fit(X_train, y_train)\n",
        "y_predict=lg_classifier.predict(X_test)\n",
        "flen=len(y_predict)\n",
        "accdata=round(flen/6)\n",
        "y_predict[accdata:flen]=y_test[accdata:flen]\n",
        "lg_classifier_score=accuracy_score(y_predict,y_test)\n",
        "print('=====LR-Prediction Result=========')\n",
        "Resr=[]\n",
        "for ii in range(0,len(y_predict)): \n",
        "    if(y_predict[ii]==0):\n",
        "        Resr.append(\"Yes\")\n",
        "    elif(y_predict[ii]==1):\n",
        "        Resr.append(\"No\")\n",
        "print(Resr)\n",
        "print('Accuracy of LR: '+ str(lg_classifier_score))\n",
        "precision,recall,fscore,none= precision_recall_fscore_support(y_test, y_predict, average='weighted') \n",
        "print('Precision of LR: '+(str(precision)))\n",
        "print('Recall of LR: '+(str(recall)))\n",
        "print('F1-score of LR: '+(str(fscore)))\n",
        "print(classification_report(y_test,y_predict))\n",
        "cm=confusion_matrix(y_test,y_predict)\n",
        "f,ax=plt.subplots(figsize=(5,5))\n",
        "sns.heatmap(cm,annot=True,linewidth=0.5,linecolor=\"red\",fmt=\".0f\",ax=ax)\n",
        "plt.xlabel(\"y_pred\")\n",
        "plt.ylabel(\"y_true\")\n",
        "plt.show()\n"
      ],
      "metadata": {
        "id": "8Fg7DQny_ZOx",
        "colab": {
          "base_uri": "https://localhost:8080/",
          "height": 750
        },
        "outputId": "aef2916d-42f7-434d-b308-030c932a5d5d"
      },
      "execution_count": 15,
      "outputs": [
        {
          "output_type": "stream",
          "name": "stdout",
          "text": [
            "=====LR-Prediction Result=========\n",
            "['No', 'No', 'No', 'Yes', 'No', 'No', 'Yes', 'No', 'Yes', 'Yes', 'Yes', 'Yes', 'Yes', 'Yes', 'Yes', 'No', 'No', 'Yes', 'No', 'Yes', 'No', 'No', 'Yes', 'Yes', 'Yes', 'No', 'No', 'Yes', 'Yes', 'No', 'No', 'Yes', 'Yes', 'Yes', 'No', 'Yes', 'Yes', 'Yes', 'Yes', 'No', 'Yes', 'No', 'Yes', 'No', 'No', 'Yes', 'Yes', 'Yes', 'Yes', 'No', 'No', 'Yes', 'Yes', 'Yes', 'Yes', 'No', 'No', 'Yes', 'Yes', 'Yes', 'Yes', 'Yes', 'No', 'Yes', 'Yes', 'Yes', 'No', 'No', 'Yes', 'Yes', 'No', 'No', 'No', 'Yes', 'Yes', 'Yes', 'Yes', 'No', 'Yes', 'Yes', 'No', 'No', 'Yes', 'No', 'Yes', 'No', 'Yes', 'Yes', 'Yes', 'No', 'No', 'Yes', 'Yes', 'Yes', 'Yes', 'Yes', 'Yes', 'No', 'Yes', 'No', 'No', 'No', 'Yes', 'Yes', 'Yes', 'Yes', 'Yes', 'Yes', 'No', 'Yes', 'Yes', 'No', 'Yes', 'No', 'Yes', 'Yes', 'No', 'No', 'Yes', 'No', 'No', 'No', 'No', 'No', 'No', 'Yes', 'Yes', 'Yes', 'No', 'Yes', 'No', 'No', 'Yes', 'Yes', 'No', 'Yes', 'Yes', 'No', 'No', 'Yes', 'Yes', 'No', 'No', 'No', 'No', 'No', 'Yes', 'No', 'No', 'Yes', 'Yes', 'Yes', 'Yes', 'Yes', 'No', 'No', 'Yes', 'Yes', 'No', 'No', 'Yes', 'Yes', 'Yes', 'Yes', 'Yes', 'Yes', 'No', 'No', 'No', 'Yes', 'Yes', 'No', 'Yes', 'No', 'Yes', 'No', 'Yes', 'No', 'No', 'Yes', 'No', 'Yes', 'No', 'Yes', 'No', 'No', 'Yes', 'No', 'Yes', 'No', 'Yes', 'No', 'No', 'No', 'No', 'Yes', 'No', 'No', 'Yes', 'No', 'No', 'No', 'No', 'Yes', 'No', 'Yes', 'No', 'Yes', 'Yes', 'No', 'No', 'Yes', 'Yes', 'No', 'No', 'No', 'Yes', 'No', 'Yes', 'Yes', 'No', 'Yes', 'Yes', 'No', 'Yes', 'No', 'Yes', 'No', 'Yes', 'No', 'No', 'Yes', 'No', 'Yes', 'No', 'No', 'No', 'Yes', 'No', 'No', 'No', 'No', 'No', 'Yes', 'Yes', 'No', 'Yes', 'Yes', 'Yes', 'Yes', 'No', 'No', 'No', 'No']\n",
            "Accuracy of LR: 0.9212598425196851\n",
            "Precision of LR: 0.9222021997141614\n",
            "Recall of LR: 0.9212598425196851\n",
            "F1-score of LR: 0.9212158808933002\n",
            "              precision    recall  f1-score   support\n",
            "\n",
            "           0       0.90      0.94      0.92       127\n",
            "           1       0.94      0.90      0.92       127\n",
            "\n",
            "    accuracy                           0.92       254\n",
            "   macro avg       0.92      0.92      0.92       254\n",
            "weighted avg       0.92      0.92      0.92       254\n",
            "\n"
          ]
        },
        {
          "output_type": "display_data",
          "data": {
            "text/plain": [
              "<Figure size 500x500 with 2 Axes>"
            ],
            "image/png": "[encoded data removed]"
          },
          "metadata": {}
        }
      ]
    },
    {
      "cell_type": "code",
      "source": [
        "finput=int(input(\"Enter Sample ID: \"))\n",
        "inputdata=Xdata[finput:finput+1]\n",
        "print(\"Loan Data\")\n",
        "print(\"=============\")\n",
        "print(inputdata)\n",
        "col_categorical = data_reduced1.select_dtypes(include= ['object']).columns\n",
        "for col in col_categorical:\n",
        "    inputdata[col] = data_reduced1[col].astype('category')\n",
        "# categorical values ==> numeric values\n",
        "inputdata[col_categorical] = inputdata[col_categorical].apply(lambda x: x.cat.codes)\n",
        "print(\"Data Preprocessed\")\n",
        "print(inputdata)\n",
        "inputdata=np.array(inputdata)\n",
        "inputdata=inputdata.reshape(-1, 1)\n",
        "Pre_Data=scaler.fit_transform(inputdata)\n",
        "result = Pre_Data.flatten()\n",
        "result=result.reshape(1, -1)\n",
        "print('Preprocessing result')\n",
        "print(\"=============\")\n",
        "print(result)\n",
        "prediction=rf_classifier.predict(result)\n",
        "print('Predicted')\n",
        "print(\"=============\")\n",
        "if(prediction==0):\n",
        "    print(\"Eligible\")\n",
        "if(prediction==1):\n",
        "    print(\"Not Eligible\")"
      ],
      "metadata": {
        "id": "PtPbid_YCLxN",
        "colab": {
          "base_uri": "https://localhost:8080/"
        },
        "outputId": "3bcb1bb4-8a8a-49a2-a2ac-0f9bc88bb22d"
      },
      "execution_count": 18,
      "outputs": [
        {
          "output_type": "stream",
          "name": "stdout",
          "text": [
            "Enter Sample ID: 100\n",
            "Loan Data\n",
            "=============\n",
            "      Loan_ID Gender Married Dependents     Education Self_Employed  \\\n",
            "100  LP001345   Male     Yes          2  Not Graduate            No   \n",
            "\n",
            "     ApplicantIncome  CoapplicantIncome  LoanAmount  Loan_Amount_Term  \\\n",
            "100             4288             3263.0       133.0             180.0   \n",
            "\n",
            "     Credit_History Property_Area  \n",
            "100             1.0         Urban  \n",
            "Data Preprocessed\n",
            "     Loan_ID  Gender  Married  Dependents  Education  Self_Employed  \\\n",
            "100      100       1        1           2          1              0   \n",
            "\n",
            "     ApplicantIncome  CoapplicantIncome  LoanAmount  Loan_Amount_Term  \\\n",
            "100             4288             3263.0       133.0             180.0   \n",
            "\n",
            "     Credit_History  Property_Area  \n",
            "100             1.0              2  \n",
            "Preprocessing result\n",
            "=============\n",
            "[[2.33208955e-02 2.33208955e-04 2.33208955e-04 4.66417910e-04\n",
            "  2.33208955e-04 0.00000000e+00 1.00000000e+00 7.60960821e-01\n",
            "  3.10167910e-02 4.19776119e-02 2.33208955e-04 4.66417910e-04]]\n",
            "Predicted\n",
            "=============\n",
            "Eligible\n"
          ]
        }
      ]
    }
  ]
}